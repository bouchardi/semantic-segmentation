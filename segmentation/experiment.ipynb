{
 "cells": [
  {
   "cell_type": "code",
   "execution_count": 1,
   "metadata": {},
   "outputs": [],
   "source": [
    "import torch\n",
    "from torchvision.models import vgg16\n",
    "from datasets import PascalVOC2012\n",
    "from dummy_model import Dummy\n",
    "import torchvision.transforms as transforms\n",
    "from torchvision.transforms import ToTensor\n",
    "from torch.autograd import Variable\n",
    "from PIL import Image\n",
    "import torchvision.transforms.functional as F"
   ]
  },
  {
   "cell_type": "code",
   "execution_count": 2,
   "metadata": {},
   "outputs": [],
   "source": [
    "from fcn_model import FCNModel\n",
    "import numpy as np\n",
    "import matplotlib.pyplot as plt"
   ]
  },
  {
   "cell_type": "code",
   "execution_count": 3,
   "metadata": {},
   "outputs": [],
   "source": [
    "model = FCNModel()"
   ]
  },
  {
   "cell_type": "code",
   "execution_count": 5,
   "metadata": {},
   "outputs": [
    {
     "data": {
      "text/plain": [
       "FCNModel(\n",
       "  (block_pool0): Sequential(\n",
       "    (0): Conv2d(3, 64, kernel_size=(3, 3), stride=(1, 1), padding=(1, 1))\n",
       "    (1): ReLU(inplace)\n",
       "    (2): Conv2d(64, 64, kernel_size=(3, 3), stride=(1, 1), padding=(1, 1))\n",
       "    (3): ReLU(inplace)\n",
       "    (4): MaxPool2d(kernel_size=2, stride=2, padding=0, dilation=1, ceil_mode=False)\n",
       "  )\n",
       "  (block_pool1): Sequential(\n",
       "    (5): Conv2d(64, 128, kernel_size=(3, 3), stride=(1, 1), padding=(1, 1))\n",
       "    (6): ReLU(inplace)\n",
       "    (7): Conv2d(128, 128, kernel_size=(3, 3), stride=(1, 1), padding=(1, 1))\n",
       "    (8): ReLU(inplace)\n",
       "    (9): MaxPool2d(kernel_size=2, stride=2, padding=0, dilation=1, ceil_mode=False)\n",
       "  )\n",
       "  (block_pool2): Sequential(\n",
       "    (10): Conv2d(128, 256, kernel_size=(3, 3), stride=(1, 1), padding=(1, 1))\n",
       "    (11): ReLU(inplace)\n",
       "    (12): Conv2d(256, 256, kernel_size=(3, 3), stride=(1, 1), padding=(1, 1))\n",
       "    (13): ReLU(inplace)\n",
       "    (14): Conv2d(256, 256, kernel_size=(3, 3), stride=(1, 1), padding=(1, 1))\n",
       "    (15): ReLU(inplace)\n",
       "    (16): MaxPool2d(kernel_size=2, stride=2, padding=0, dilation=1, ceil_mode=False)\n",
       "  )\n",
       "  (block_pool3): Sequential(\n",
       "    (17): Conv2d(256, 512, kernel_size=(3, 3), stride=(1, 1), padding=(1, 1))\n",
       "    (18): ReLU(inplace)\n",
       "    (19): Conv2d(512, 512, kernel_size=(3, 3), stride=(1, 1), padding=(1, 1))\n",
       "    (20): ReLU(inplace)\n",
       "    (21): Conv2d(512, 512, kernel_size=(3, 3), stride=(1, 1), padding=(1, 1))\n",
       "    (22): ReLU(inplace)\n",
       "    (23): MaxPool2d(kernel_size=2, stride=2, padding=0, dilation=1, ceil_mode=False)\n",
       "  )\n",
       "  (block_pool4): Sequential(\n",
       "    (25): ReLU(inplace)\n",
       "    (26): Conv2d(512, 512, kernel_size=(3, 3), stride=(1, 1), padding=(1, 1))\n",
       "    (27): ReLU(inplace)\n",
       "    (28): Conv2d(512, 512, kernel_size=(3, 3), stride=(1, 1), padding=(1, 1))\n",
       "    (29): ReLU(inplace)\n",
       "    (30): MaxPool2d(kernel_size=2, stride=2, padding=0, dilation=1, ceil_mode=False)\n",
       "  )\n",
       "  (conv1): Conv2d(512, 4096, kernel_size=(7, 7), stride=(1, 1))\n",
       "  (conv2): Conv2d(4096, 4096, kernel_size=(1, 1), stride=(1, 1))\n",
       "  (conv3): Conv2d(4096, 1000, kernel_size=(1, 1), stride=(1, 1))\n",
       "  (conv4): Conv2d(1000, 21, kernel_size=(1, 1), stride=(1, 1))\n",
       "  (deconv1): ConvTranspose2d(21, 21, kernel_size=(4, 4), stride=(2, 2), padding=(1, 1))\n",
       "  (crop): ConstantPad2d(padding=(-2, -2, -2, -2), value=-2)\n",
       "  (deconv2): ConvTranspose2d(533, 21, kernel_size=(4, 4), stride=(2, 2), padding=(1, 1))\n",
       "  (deconv3): ConvTranspose2d(533, 21, kernel_size=(4, 4), stride=(2, 2), padding=(1, 1))\n",
       "  (deconv4): ConvTranspose2d(277, 21, kernel_size=(4, 4), stride=(2, 2), padding=(1, 1))\n",
       "  (deconv5): ConvTranspose2d(149, 21, kernel_size=(4, 4), stride=(2, 2), padding=(1, 1))\n",
       "  (deconv6): ConvTranspose2d(85, 21, kernel_size=(4, 4), stride=(2, 2), padding=(1, 1))\n",
       "  (softmax): Softmax()\n",
       ")"
      ]
     },
     "execution_count": 5,
     "metadata": {},
     "output_type": "execute_result"
    }
   ],
   "source": [
    "model.from_file('/project/fcn_15.pt')\n",
    "model.eval()"
   ]
  },
  {
   "cell_type": "code",
   "execution_count": 7,
   "metadata": {},
   "outputs": [
    {
     "name": "stderr",
     "output_type": "stream",
     "text": [
      "/project/segmentation/fcn_model.py:57: UserWarning: Implicit dimension choice for softmax has been deprecated. Change the call to include dim=X as an argument.\n",
      "  x = self.softmax(x)\n"
     ]
    }
   ],
   "source": [
    "dataset = PascalVOC2012('val')\n",
    "result = model(dataset[1]['image'].unsqueeze(0))"
   ]
  },
  {
   "cell_type": "code",
   "execution_count": 9,
   "metadata": {},
   "outputs": [
    {
     "data": {
      "text/plain": [
       "array([[[0.8666667 , 0.8666667 , 0.8666667 , ..., 0.89411765,\n",
       "         0.89411765, 0.89411765],\n",
       "        [0.89411765, 0.89411765, 0.89411765, ..., 0.94509804,\n",
       "         0.94509804, 0.94509804],\n",
       "        [0.94509804, 0.94509804, 0.9411765 , ..., 0.827451  ,\n",
       "         0.827451  , 0.827451  ],\n",
       "        ...,\n",
       "        [0.8156863 , 0.81960785, 0.827451  , ..., 0.38039216,\n",
       "         0.38039216, 0.38039216],\n",
       "        [0.39607844, 0.39607844, 0.39607844, ..., 0.4392157 ,\n",
       "         0.5058824 , 0.5058824 ],\n",
       "        [0.5058824 , 0.48235294, 0.48235294, ..., 0.80784315,\n",
       "         0.8117647 , 0.8117647 ]],\n",
       "\n",
       "       [[0.8039216 , 0.80784315, 0.8117647 , ..., 0.41960785,\n",
       "         0.41960785, 0.4117647 ],\n",
       "        [0.41960785, 0.41960785, 0.4117647 , ..., 0.972549  ,\n",
       "         0.6745098 , 0.6745098 ],\n",
       "        [0.6745098 , 0.3137255 , 0.3137255 , ..., 0.79607844,\n",
       "         0.8       , 0.8039216 ],\n",
       "        ...,\n",
       "        [0.5921569 , 0.6039216 , 0.58431375, ..., 0.80784315,\n",
       "         0.80784315, 0.80784315],\n",
       "        [0.80784315, 0.80784315, 0.80784315, ..., 0.56078434,\n",
       "         0.49803922, 0.44705883],\n",
       "        [0.23921569, 0.03529412, 0.04313726, ..., 0.39607844,\n",
       "         0.3647059 , 0.3529412 ]],\n",
       "\n",
       "       [[0.33333334, 0.27058825, 0.25882354, ..., 0.827451  ,\n",
       "         0.827451  , 0.8117647 ],\n",
       "        [0.8117647 , 0.8117647 , 0.8039216 , ..., 0.6784314 ,\n",
       "         0.6745098 , 0.654902  ],\n",
       "        [0.654902  , 0.6509804 , 0.63529414, ..., 0.81960785,\n",
       "         0.8235294 , 0.8235294 ],\n",
       "        ...,\n",
       "        [0.8156863 , 0.8156863 , 0.80784315, ..., 0.83137256,\n",
       "         0.8352941 , 0.8352941 ],\n",
       "        [0.8352941 , 0.8509804 , 0.827451  , ..., 0.79607844,\n",
       "         0.79607844, 0.79607844],\n",
       "        [0.79607844, 0.79607844, 0.7921569 , ..., 0.8392157 ,\n",
       "         0.8392157 , 0.8392157 ]]], dtype=float32)"
      ]
     },
     "execution_count": 9,
     "metadata": {},
     "output_type": "execute_result"
    }
   ],
   "source": [
    "_in = dataset[0]['image'].numpy()\n",
    "_in"
   ]
  },
  {
   "cell_type": "code",
   "execution_count": 12,
   "metadata": {},
   "outputs": [
    {
     "data": {
      "text/plain": [
       "array([[20,  7,  3, ...,  3, 20, 14],\n",
       "       [16, 10,  5, ..., 12, 16, 17],\n",
       "       [16, 12, 20, ...,  7, 15, 14],\n",
       "       ...,\n",
       "       [16, 12,  1, ..., 12,  1,  8],\n",
       "       [20, 16,  5, ..., 16, 20, 11],\n",
       "       [ 9,  0,  5, ...,  4,  1,  0]], dtype=uint8)"
      ]
     },
     "execution_count": 12,
     "metadata": {},
     "output_type": "execute_result"
    }
   ],
   "source": [
    "out = result.detach().numpy()[0].argmax(axis=0)\n",
    "out = out.astype('uint8')\n",
    "Image.fromarray(out)\n",
    "out"
   ]
  }
 ],
 "metadata": {
  "kernelspec": {
   "display_name": "Python 3",
   "language": "python",
   "name": "python3"
  },
  "language_info": {
   "codemirror_mode": {
    "name": "ipython",
    "version": 3
   },
   "file_extension": ".py",
   "mimetype": "text/x-python",
   "name": "python",
   "nbconvert_exporter": "python",
   "pygments_lexer": "ipython3",
   "version": "3.6.5"
  }
 },
 "nbformat": 4,
 "nbformat_minor": 2
}
